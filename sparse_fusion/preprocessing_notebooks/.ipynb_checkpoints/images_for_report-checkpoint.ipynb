{
 "cells": [
  {
   "cell_type": "markdown",
   "metadata": {},
   "source": [
    "# Plot Generation for Report\n",
    "The code blocks below were used to generate images found in the report. Please note that you may have to modify paths in the functions and scripts below."
   ]
  },
  {
   "cell_type": "code",
   "execution_count": null,
   "metadata": {},
   "outputs": [],
   "source": [
    "import torch\n",
    "import numpy as np\n",
    "import os\n",
    "import matplotlib.pyplot as plt\n",
    "import pickle\n",
    "import cv2 as cv"
   ]
  },
  {
   "cell_type": "code",
   "execution_count": null,
   "metadata": {},
   "outputs": [],
   "source": [
    "# Let's get class dists\n",
    "fname_combined = os.path.join(\"data\",\"class_weights_COMBINED.pkl\")\n",
    "\n",
    "with open(fname_combined,\"rb\") as f:\n",
    "    weights = pickle.load(f)\n",
    "    \n",
    "tot = np.sum(list(weights.values()))\n",
    "\n",
    "print([weights[i]/tot for i in range(len(list(weights.keys())))])"
   ]
  },
  {
   "cell_type": "code",
   "execution_count": null,
   "metadata": {},
   "outputs": [],
   "source": [
    "# Now let's plot dist over all 55 classes\n",
    "fname_tot = os.path.join(\"data\",\"class_weights.pkl\")\n",
    "\n",
    "with open(fname_tot,\"rb\") as f:\n",
    "    weights_tot = pickle.load(f)\n",
    "    \n",
    "tot = np.sum(list(weights_tot.values()))\n",
    "\n",
    "vals = [weights[i]/tot for i in range(len(list(weights.keys())))]\n",
    "vals.sort()\n",
    "vals = vals[]\n",
    "\n",
    "# Now plot\n",
    "xs = [i for i in range(len(vals))]\n",
    "ys = vals\n",
    "plt.plot(xs, ys)\n",
    "plt.xlabel(\"Ground Truth Class, Sorted\")\n",
    "plt.ylabel(\"Total Number of Point Instances\")\n",
    "plt.title(\"Distribution of Ground Truth Classes over the Training Set\")\n",
    "plt.show()"
   ]
  },
  {
   "cell_type": "code",
   "execution_count": null,
   "metadata": {},
   "outputs": [],
   "source": [
    "# Plot semantic segmentation in RGB\n",
    "road_labels = [32,40,44,42,50,27,40,42,44,50]\n",
    "\n",
    "# Get file for pickling\n",
    "f_in = os.path.join(os.getcwd(), \"data\", \"dataset_pc_labels_camera_start_0_stop_10000_ROAD_DETECTION.pkl\")\n",
    "\n",
    "# Load pickle file\n",
    "with open(f_in,\"rb\") as f:\n",
    "    D = pickle.load(f)\n",
    "    f.close()\n",
    "    \n",
    "keys = list(D.keys())\n",
    "key = keys[100]"
   ]
  }
 ],
 "metadata": {
  "kernelspec": {
   "display_name": "Python 3",
   "language": "python",
   "name": "python3"
  },
  "language_info": {
   "codemirror_mode": {
    "name": "ipython",
    "version": 3
   },
   "file_extension": ".py",
   "mimetype": "text/x-python",
   "name": "python",
   "nbconvert_exporter": "python",
   "pygments_lexer": "ipython3",
   "version": "3.8.3"
  }
 },
 "nbformat": 4,
 "nbformat_minor": 2
}
